{
  "nbformat": 4,
  "nbformat_minor": 0,
  "metadata": {
    "colab": {
      "provenance": [],
      "collapsed_sections": [],
      "authorship_tag": "ABX9TyNzSxFBi9csRPT2v13Zs13m",
      "include_colab_link": true
    },
    "kernelspec": {
      "name": "python3",
      "display_name": "Python 3"
    },
    "language_info": {
      "name": "python"
    }
  },
  "cells": [
    {
      "cell_type": "markdown",
      "metadata": {
        "id": "view-in-github",
        "colab_type": "text"
      },
      "source": [
        "<a href=\"https://colab.research.google.com/github/fereol023/fraud-detection/blob/main/fraud_detection.ipynb\" target=\"_parent\"><img src=\"https://colab.research.google.com/assets/colab-badge.svg\" alt=\"Open In Colab\"/></a>"
      ]
    },
    {
      "cell_type": "markdown",
      "source": [
        "**1. Importation du dataset depuis google drive et lecture**"
      ],
      "metadata": {
        "id": "l_-fCEys-A1_"
      }
    },
    {
      "cell_type": "code",
      "execution_count": 1,
      "metadata": {
        "colab": {
          "base_uri": "https://localhost:8080/",
          "height": 253
        },
        "id": "1zDPyPae8oIA",
        "outputId": "612e38e3-0b2a-435c-f47e-81e8d576dce4"
      },
      "outputs": [
        {
          "output_type": "stream",
          "name": "stdout",
          "text": [
            "Drive already mounted at /content/drive; to attempt to forcibly remount, call drive.mount(\"/content/drive\", force_remount=True).\n"
          ]
        },
        {
          "output_type": "execute_result",
          "data": {
            "text/plain": [
              "   time        v1        v2        v3        v4        v5        v6        v7  \\\n",
              "0     0 -1.359807 -0.072781  2.536347  1.378155 -0.338321  0.462388  0.239599   \n",
              "1     0  1.191857  0.266151  0.166480  0.448154  0.060018 -0.082361 -0.078803   \n",
              "2     1 -1.358354 -1.340163  1.773209  0.379780 -0.503198  1.800499  0.791461   \n",
              "3     1 -0.966272 -0.185226  1.792993 -0.863291 -0.010309  1.247203  0.237609   \n",
              "4     2 -1.158233  0.877737  1.548718  0.403034 -0.407193  0.095921  0.592941   \n",
              "\n",
              "         v8        v9  ...       v21       v22       v23       v24       v25  \\\n",
              "0  0.098698  0.363787  ... -0.018307  0.277838 -0.110474  0.066928  0.128539   \n",
              "1  0.085102 -0.255425  ... -0.225775 -0.638672  0.101288 -0.339846  0.167170   \n",
              "2  0.247676 -1.514654  ...  0.247998  0.771679  0.909412 -0.689281 -0.327642   \n",
              "3  0.377436 -1.387024  ... -0.108300  0.005274 -0.190321 -1.175575  0.647376   \n",
              "4 -0.270533  0.817739  ... -0.009431  0.798278 -0.137458  0.141267 -0.206010   \n",
              "\n",
              "        v26       v27       v28  amount  class  \n",
              "0 -0.189115  0.133558 -0.021053  149.62  False  \n",
              "1  0.125895 -0.008983  0.014724    2.69  False  \n",
              "2 -0.139097 -0.055353 -0.059752  378.66  False  \n",
              "3 -0.221929  0.062723  0.061458  123.50  False  \n",
              "4  0.502292  0.219422  0.215153   69.99  False  \n",
              "\n",
              "[5 rows x 31 columns]"
            ],
            "text/html": [
              "\n",
              "  <div id=\"df-2f6bb178-8031-472f-9127-a5d45b9e5904\">\n",
              "    <div class=\"colab-df-container\">\n",
              "      <div>\n",
              "<style scoped>\n",
              "    .dataframe tbody tr th:only-of-type {\n",
              "        vertical-align: middle;\n",
              "    }\n",
              "\n",
              "    .dataframe tbody tr th {\n",
              "        vertical-align: top;\n",
              "    }\n",
              "\n",
              "    .dataframe thead th {\n",
              "        text-align: right;\n",
              "    }\n",
              "</style>\n",
              "<table border=\"1\" class=\"dataframe\">\n",
              "  <thead>\n",
              "    <tr style=\"text-align: right;\">\n",
              "      <th></th>\n",
              "      <th>time</th>\n",
              "      <th>v1</th>\n",
              "      <th>v2</th>\n",
              "      <th>v3</th>\n",
              "      <th>v4</th>\n",
              "      <th>v5</th>\n",
              "      <th>v6</th>\n",
              "      <th>v7</th>\n",
              "      <th>v8</th>\n",
              "      <th>v9</th>\n",
              "      <th>...</th>\n",
              "      <th>v21</th>\n",
              "      <th>v22</th>\n",
              "      <th>v23</th>\n",
              "      <th>v24</th>\n",
              "      <th>v25</th>\n",
              "      <th>v26</th>\n",
              "      <th>v27</th>\n",
              "      <th>v28</th>\n",
              "      <th>amount</th>\n",
              "      <th>class</th>\n",
              "    </tr>\n",
              "  </thead>\n",
              "  <tbody>\n",
              "    <tr>\n",
              "      <th>0</th>\n",
              "      <td>0</td>\n",
              "      <td>-1.359807</td>\n",
              "      <td>-0.072781</td>\n",
              "      <td>2.536347</td>\n",
              "      <td>1.378155</td>\n",
              "      <td>-0.338321</td>\n",
              "      <td>0.462388</td>\n",
              "      <td>0.239599</td>\n",
              "      <td>0.098698</td>\n",
              "      <td>0.363787</td>\n",
              "      <td>...</td>\n",
              "      <td>-0.018307</td>\n",
              "      <td>0.277838</td>\n",
              "      <td>-0.110474</td>\n",
              "      <td>0.066928</td>\n",
              "      <td>0.128539</td>\n",
              "      <td>-0.189115</td>\n",
              "      <td>0.133558</td>\n",
              "      <td>-0.021053</td>\n",
              "      <td>149.62</td>\n",
              "      <td>False</td>\n",
              "    </tr>\n",
              "    <tr>\n",
              "      <th>1</th>\n",
              "      <td>0</td>\n",
              "      <td>1.191857</td>\n",
              "      <td>0.266151</td>\n",
              "      <td>0.166480</td>\n",
              "      <td>0.448154</td>\n",
              "      <td>0.060018</td>\n",
              "      <td>-0.082361</td>\n",
              "      <td>-0.078803</td>\n",
              "      <td>0.085102</td>\n",
              "      <td>-0.255425</td>\n",
              "      <td>...</td>\n",
              "      <td>-0.225775</td>\n",
              "      <td>-0.638672</td>\n",
              "      <td>0.101288</td>\n",
              "      <td>-0.339846</td>\n",
              "      <td>0.167170</td>\n",
              "      <td>0.125895</td>\n",
              "      <td>-0.008983</td>\n",
              "      <td>0.014724</td>\n",
              "      <td>2.69</td>\n",
              "      <td>False</td>\n",
              "    </tr>\n",
              "    <tr>\n",
              "      <th>2</th>\n",
              "      <td>1</td>\n",
              "      <td>-1.358354</td>\n",
              "      <td>-1.340163</td>\n",
              "      <td>1.773209</td>\n",
              "      <td>0.379780</td>\n",
              "      <td>-0.503198</td>\n",
              "      <td>1.800499</td>\n",
              "      <td>0.791461</td>\n",
              "      <td>0.247676</td>\n",
              "      <td>-1.514654</td>\n",
              "      <td>...</td>\n",
              "      <td>0.247998</td>\n",
              "      <td>0.771679</td>\n",
              "      <td>0.909412</td>\n",
              "      <td>-0.689281</td>\n",
              "      <td>-0.327642</td>\n",
              "      <td>-0.139097</td>\n",
              "      <td>-0.055353</td>\n",
              "      <td>-0.059752</td>\n",
              "      <td>378.66</td>\n",
              "      <td>False</td>\n",
              "    </tr>\n",
              "    <tr>\n",
              "      <th>3</th>\n",
              "      <td>1</td>\n",
              "      <td>-0.966272</td>\n",
              "      <td>-0.185226</td>\n",
              "      <td>1.792993</td>\n",
              "      <td>-0.863291</td>\n",
              "      <td>-0.010309</td>\n",
              "      <td>1.247203</td>\n",
              "      <td>0.237609</td>\n",
              "      <td>0.377436</td>\n",
              "      <td>-1.387024</td>\n",
              "      <td>...</td>\n",
              "      <td>-0.108300</td>\n",
              "      <td>0.005274</td>\n",
              "      <td>-0.190321</td>\n",
              "      <td>-1.175575</td>\n",
              "      <td>0.647376</td>\n",
              "      <td>-0.221929</td>\n",
              "      <td>0.062723</td>\n",
              "      <td>0.061458</td>\n",
              "      <td>123.50</td>\n",
              "      <td>False</td>\n",
              "    </tr>\n",
              "    <tr>\n",
              "      <th>4</th>\n",
              "      <td>2</td>\n",
              "      <td>-1.158233</td>\n",
              "      <td>0.877737</td>\n",
              "      <td>1.548718</td>\n",
              "      <td>0.403034</td>\n",
              "      <td>-0.407193</td>\n",
              "      <td>0.095921</td>\n",
              "      <td>0.592941</td>\n",
              "      <td>-0.270533</td>\n",
              "      <td>0.817739</td>\n",
              "      <td>...</td>\n",
              "      <td>-0.009431</td>\n",
              "      <td>0.798278</td>\n",
              "      <td>-0.137458</td>\n",
              "      <td>0.141267</td>\n",
              "      <td>-0.206010</td>\n",
              "      <td>0.502292</td>\n",
              "      <td>0.219422</td>\n",
              "      <td>0.215153</td>\n",
              "      <td>69.99</td>\n",
              "      <td>False</td>\n",
              "    </tr>\n",
              "  </tbody>\n",
              "</table>\n",
              "<p>5 rows × 31 columns</p>\n",
              "</div>\n",
              "      <button class=\"colab-df-convert\" onclick=\"convertToInteractive('df-2f6bb178-8031-472f-9127-a5d45b9e5904')\"\n",
              "              title=\"Convert this dataframe to an interactive table.\"\n",
              "              style=\"display:none;\">\n",
              "        \n",
              "  <svg xmlns=\"http://www.w3.org/2000/svg\" height=\"24px\"viewBox=\"0 0 24 24\"\n",
              "       width=\"24px\">\n",
              "    <path d=\"M0 0h24v24H0V0z\" fill=\"none\"/>\n",
              "    <path d=\"M18.56 5.44l.94 2.06.94-2.06 2.06-.94-2.06-.94-.94-2.06-.94 2.06-2.06.94zm-11 1L8.5 8.5l.94-2.06 2.06-.94-2.06-.94L8.5 2.5l-.94 2.06-2.06.94zm10 10l.94 2.06.94-2.06 2.06-.94-2.06-.94-.94-2.06-.94 2.06-2.06.94z\"/><path d=\"M17.41 7.96l-1.37-1.37c-.4-.4-.92-.59-1.43-.59-.52 0-1.04.2-1.43.59L10.3 9.45l-7.72 7.72c-.78.78-.78 2.05 0 2.83L4 21.41c.39.39.9.59 1.41.59.51 0 1.02-.2 1.41-.59l7.78-7.78 2.81-2.81c.8-.78.8-2.07 0-2.86zM5.41 20L4 18.59l7.72-7.72 1.47 1.35L5.41 20z\"/>\n",
              "  </svg>\n",
              "      </button>\n",
              "      \n",
              "  <style>\n",
              "    .colab-df-container {\n",
              "      display:flex;\n",
              "      flex-wrap:wrap;\n",
              "      gap: 12px;\n",
              "    }\n",
              "\n",
              "    .colab-df-convert {\n",
              "      background-color: #E8F0FE;\n",
              "      border: none;\n",
              "      border-radius: 50%;\n",
              "      cursor: pointer;\n",
              "      display: none;\n",
              "      fill: #1967D2;\n",
              "      height: 32px;\n",
              "      padding: 0 0 0 0;\n",
              "      width: 32px;\n",
              "    }\n",
              "\n",
              "    .colab-df-convert:hover {\n",
              "      background-color: #E2EBFA;\n",
              "      box-shadow: 0px 1px 2px rgba(60, 64, 67, 0.3), 0px 1px 3px 1px rgba(60, 64, 67, 0.15);\n",
              "      fill: #174EA6;\n",
              "    }\n",
              "\n",
              "    [theme=dark] .colab-df-convert {\n",
              "      background-color: #3B4455;\n",
              "      fill: #D2E3FC;\n",
              "    }\n",
              "\n",
              "    [theme=dark] .colab-df-convert:hover {\n",
              "      background-color: #434B5C;\n",
              "      box-shadow: 0px 1px 3px 1px rgba(0, 0, 0, 0.15);\n",
              "      filter: drop-shadow(0px 1px 2px rgba(0, 0, 0, 0.3));\n",
              "      fill: #FFFFFF;\n",
              "    }\n",
              "  </style>\n",
              "\n",
              "      <script>\n",
              "        const buttonEl =\n",
              "          document.querySelector('#df-2f6bb178-8031-472f-9127-a5d45b9e5904 button.colab-df-convert');\n",
              "        buttonEl.style.display =\n",
              "          google.colab.kernel.accessAllowed ? 'block' : 'none';\n",
              "\n",
              "        async function convertToInteractive(key) {\n",
              "          const element = document.querySelector('#df-2f6bb178-8031-472f-9127-a5d45b9e5904');\n",
              "          const dataTable =\n",
              "            await google.colab.kernel.invokeFunction('convertToInteractive',\n",
              "                                                     [key], {});\n",
              "          if (!dataTable) return;\n",
              "\n",
              "          const docLinkHtml = 'Like what you see? Visit the ' +\n",
              "            '<a target=\"_blank\" href=https://colab.research.google.com/notebooks/data_table.ipynb>data table notebook</a>'\n",
              "            + ' to learn more about interactive tables.';\n",
              "          element.innerHTML = '';\n",
              "          dataTable['output_type'] = 'display_data';\n",
              "          await google.colab.output.renderOutput(dataTable, element);\n",
              "          const docLink = document.createElement('div');\n",
              "          docLink.innerHTML = docLinkHtml;\n",
              "          element.appendChild(docLink);\n",
              "        }\n",
              "      </script>\n",
              "    </div>\n",
              "  </div>\n",
              "  "
            ]
          },
          "metadata": {},
          "execution_count": 1
        }
      ],
      "source": [
        "import pandas as pd\n",
        "from google.colab import drive\n",
        "drive.mount(\"/content/drive\")\n",
        "\n",
        "line = \"=\"*50\n",
        "sep = \"\\n\"\n",
        "\n",
        "df = pd.read_csv(\"/content/drive/MyDrive/Datasets/creditcard.csv\")\n",
        "df.head()"
      ]
    },
    {
      "cell_type": "markdown",
      "source": [
        "**a-Exploration**"
      ],
      "metadata": {
        "id": "20HlHBC5JiFn"
      }
    },
    {
      "cell_type": "code",
      "source": [
        "#description des données\n",
        "df.describe().T"
      ],
      "metadata": {
        "colab": {
          "base_uri": "https://localhost:8080/",
          "height": 990
        },
        "id": "_fesVXMtVRKX",
        "outputId": "18e5d1b7-de86-495e-9850-02e4f4e07ad7"
      },
      "execution_count": 2,
      "outputs": [
        {
          "output_type": "execute_result",
          "data": {
            "text/plain": [
              "           count          mean           std         min           25%  \\\n",
              "time    284807.0  9.481386e+04  47488.145955    0.000000  54201.500000   \n",
              "v1      284807.0  1.168375e-15      1.958696  -56.407510     -0.920373   \n",
              "v2      284807.0  3.416908e-16      1.651309  -72.715728     -0.598550   \n",
              "v3      284807.0 -1.379537e-15      1.516255  -48.325589     -0.890365   \n",
              "v4      284807.0  2.074095e-15      1.415869   -5.683171     -0.848640   \n",
              "v5      284807.0  9.604066e-16      1.380247 -113.743307     -0.691597   \n",
              "v6      284807.0  1.487313e-15      1.332271  -26.160506     -0.768296   \n",
              "v7      284807.0 -5.556467e-16      1.237094  -43.557242     -0.554076   \n",
              "v8      284807.0  1.213481e-16      1.194353  -73.216718     -0.208630   \n",
              "v9      284807.0 -2.406331e-15      1.098632  -13.434066     -0.643098   \n",
              "v10     284807.0  2.239053e-15      1.088850  -24.588262     -0.535426   \n",
              "v11     284807.0  1.673327e-15      1.020713   -4.797473     -0.762494   \n",
              "v12     284807.0 -1.247012e-15      0.999201  -18.683715     -0.405571   \n",
              "v13     284807.0  8.190001e-16      0.995274   -5.791881     -0.648539   \n",
              "v14     284807.0  1.207294e-15      0.958596  -19.214325     -0.425574   \n",
              "v15     284807.0  4.887456e-15      0.915316   -4.498945     -0.582884   \n",
              "v16     284807.0  1.437716e-15      0.876253  -14.129855     -0.468037   \n",
              "v17     284807.0 -3.772171e-16      0.849337  -25.162799     -0.483748   \n",
              "v18     284807.0  9.564149e-16      0.838176   -9.498746     -0.498850   \n",
              "v19     284807.0  1.039917e-15      0.814041   -7.213527     -0.456299   \n",
              "v20     284807.0  6.406204e-16      0.770925  -54.497720     -0.211721   \n",
              "v21     284807.0  1.654067e-16      0.734524  -34.830382     -0.228395   \n",
              "v22     284807.0 -3.568593e-16      0.725702  -10.933144     -0.542350   \n",
              "v23     284807.0  2.578648e-16      0.624460  -44.807735     -0.161846   \n",
              "v24     284807.0  4.473266e-15      0.605647   -2.836627     -0.354586   \n",
              "v25     284807.0  5.340915e-16      0.521278  -10.295397     -0.317145   \n",
              "v26     284807.0  1.683437e-15      0.482227   -2.604551     -0.326984   \n",
              "v27     284807.0 -3.660091e-16      0.403632  -22.565679     -0.070840   \n",
              "v28     284807.0 -1.227390e-16      0.330083  -15.430084     -0.052960   \n",
              "amount  284807.0  8.834962e+01    250.120109    0.000000      5.600000   \n",
              "\n",
              "                 50%            75%            max  \n",
              "time    84692.000000  139320.500000  172792.000000  \n",
              "v1          0.018109       1.315642       2.454930  \n",
              "v2          0.065486       0.803724      22.057729  \n",
              "v3          0.179846       1.027196       9.382558  \n",
              "v4         -0.019847       0.743341      16.875344  \n",
              "v5         -0.054336       0.611926      34.801666  \n",
              "v6         -0.274187       0.398565      73.301626  \n",
              "v7          0.040103       0.570436     120.589494  \n",
              "v8          0.022358       0.327346      20.007208  \n",
              "v9         -0.051429       0.597139      15.594995  \n",
              "v10        -0.092917       0.453923      23.745136  \n",
              "v11        -0.032757       0.739593      12.018913  \n",
              "v12         0.140033       0.618238       7.848392  \n",
              "v13        -0.013568       0.662505       7.126883  \n",
              "v14         0.050601       0.493150      10.526766  \n",
              "v15         0.048072       0.648821       8.877742  \n",
              "v16         0.066413       0.523296      17.315112  \n",
              "v17        -0.065676       0.399675       9.253526  \n",
              "v18        -0.003636       0.500807       5.041069  \n",
              "v19         0.003735       0.458949       5.591971  \n",
              "v20        -0.062481       0.133041      39.420904  \n",
              "v21        -0.029450       0.186377      27.202839  \n",
              "v22         0.006782       0.528554      10.503090  \n",
              "v23        -0.011193       0.147642      22.528412  \n",
              "v24         0.040976       0.439527       4.584549  \n",
              "v25         0.016594       0.350716       7.519589  \n",
              "v26        -0.052139       0.240952       3.517346  \n",
              "v27         0.001342       0.091045      31.612198  \n",
              "v28         0.011244       0.078280      33.847808  \n",
              "amount     22.000000      77.165000   25691.160000  "
            ],
            "text/html": [
              "\n",
              "  <div id=\"df-cf665363-840e-42c5-9efc-9906aa58744d\">\n",
              "    <div class=\"colab-df-container\">\n",
              "      <div>\n",
              "<style scoped>\n",
              "    .dataframe tbody tr th:only-of-type {\n",
              "        vertical-align: middle;\n",
              "    }\n",
              "\n",
              "    .dataframe tbody tr th {\n",
              "        vertical-align: top;\n",
              "    }\n",
              "\n",
              "    .dataframe thead th {\n",
              "        text-align: right;\n",
              "    }\n",
              "</style>\n",
              "<table border=\"1\" class=\"dataframe\">\n",
              "  <thead>\n",
              "    <tr style=\"text-align: right;\">\n",
              "      <th></th>\n",
              "      <th>count</th>\n",
              "      <th>mean</th>\n",
              "      <th>std</th>\n",
              "      <th>min</th>\n",
              "      <th>25%</th>\n",
              "      <th>50%</th>\n",
              "      <th>75%</th>\n",
              "      <th>max</th>\n",
              "    </tr>\n",
              "  </thead>\n",
              "  <tbody>\n",
              "    <tr>\n",
              "      <th>time</th>\n",
              "      <td>284807.0</td>\n",
              "      <td>9.481386e+04</td>\n",
              "      <td>47488.145955</td>\n",
              "      <td>0.000000</td>\n",
              "      <td>54201.500000</td>\n",
              "      <td>84692.000000</td>\n",
              "      <td>139320.500000</td>\n",
              "      <td>172792.000000</td>\n",
              "    </tr>\n",
              "    <tr>\n",
              "      <th>v1</th>\n",
              "      <td>284807.0</td>\n",
              "      <td>1.168375e-15</td>\n",
              "      <td>1.958696</td>\n",
              "      <td>-56.407510</td>\n",
              "      <td>-0.920373</td>\n",
              "      <td>0.018109</td>\n",
              "      <td>1.315642</td>\n",
              "      <td>2.454930</td>\n",
              "    </tr>\n",
              "    <tr>\n",
              "      <th>v2</th>\n",
              "      <td>284807.0</td>\n",
              "      <td>3.416908e-16</td>\n",
              "      <td>1.651309</td>\n",
              "      <td>-72.715728</td>\n",
              "      <td>-0.598550</td>\n",
              "      <td>0.065486</td>\n",
              "      <td>0.803724</td>\n",
              "      <td>22.057729</td>\n",
              "    </tr>\n",
              "    <tr>\n",
              "      <th>v3</th>\n",
              "      <td>284807.0</td>\n",
              "      <td>-1.379537e-15</td>\n",
              "      <td>1.516255</td>\n",
              "      <td>-48.325589</td>\n",
              "      <td>-0.890365</td>\n",
              "      <td>0.179846</td>\n",
              "      <td>1.027196</td>\n",
              "      <td>9.382558</td>\n",
              "    </tr>\n",
              "    <tr>\n",
              "      <th>v4</th>\n",
              "      <td>284807.0</td>\n",
              "      <td>2.074095e-15</td>\n",
              "      <td>1.415869</td>\n",
              "      <td>-5.683171</td>\n",
              "      <td>-0.848640</td>\n",
              "      <td>-0.019847</td>\n",
              "      <td>0.743341</td>\n",
              "      <td>16.875344</td>\n",
              "    </tr>\n",
              "    <tr>\n",
              "      <th>v5</th>\n",
              "      <td>284807.0</td>\n",
              "      <td>9.604066e-16</td>\n",
              "      <td>1.380247</td>\n",
              "      <td>-113.743307</td>\n",
              "      <td>-0.691597</td>\n",
              "      <td>-0.054336</td>\n",
              "      <td>0.611926</td>\n",
              "      <td>34.801666</td>\n",
              "    </tr>\n",
              "    <tr>\n",
              "      <th>v6</th>\n",
              "      <td>284807.0</td>\n",
              "      <td>1.487313e-15</td>\n",
              "      <td>1.332271</td>\n",
              "      <td>-26.160506</td>\n",
              "      <td>-0.768296</td>\n",
              "      <td>-0.274187</td>\n",
              "      <td>0.398565</td>\n",
              "      <td>73.301626</td>\n",
              "    </tr>\n",
              "    <tr>\n",
              "      <th>v7</th>\n",
              "      <td>284807.0</td>\n",
              "      <td>-5.556467e-16</td>\n",
              "      <td>1.237094</td>\n",
              "      <td>-43.557242</td>\n",
              "      <td>-0.554076</td>\n",
              "      <td>0.040103</td>\n",
              "      <td>0.570436</td>\n",
              "      <td>120.589494</td>\n",
              "    </tr>\n",
              "    <tr>\n",
              "      <th>v8</th>\n",
              "      <td>284807.0</td>\n",
              "      <td>1.213481e-16</td>\n",
              "      <td>1.194353</td>\n",
              "      <td>-73.216718</td>\n",
              "      <td>-0.208630</td>\n",
              "      <td>0.022358</td>\n",
              "      <td>0.327346</td>\n",
              "      <td>20.007208</td>\n",
              "    </tr>\n",
              "    <tr>\n",
              "      <th>v9</th>\n",
              "      <td>284807.0</td>\n",
              "      <td>-2.406331e-15</td>\n",
              "      <td>1.098632</td>\n",
              "      <td>-13.434066</td>\n",
              "      <td>-0.643098</td>\n",
              "      <td>-0.051429</td>\n",
              "      <td>0.597139</td>\n",
              "      <td>15.594995</td>\n",
              "    </tr>\n",
              "    <tr>\n",
              "      <th>v10</th>\n",
              "      <td>284807.0</td>\n",
              "      <td>2.239053e-15</td>\n",
              "      <td>1.088850</td>\n",
              "      <td>-24.588262</td>\n",
              "      <td>-0.535426</td>\n",
              "      <td>-0.092917</td>\n",
              "      <td>0.453923</td>\n",
              "      <td>23.745136</td>\n",
              "    </tr>\n",
              "    <tr>\n",
              "      <th>v11</th>\n",
              "      <td>284807.0</td>\n",
              "      <td>1.673327e-15</td>\n",
              "      <td>1.020713</td>\n",
              "      <td>-4.797473</td>\n",
              "      <td>-0.762494</td>\n",
              "      <td>-0.032757</td>\n",
              "      <td>0.739593</td>\n",
              "      <td>12.018913</td>\n",
              "    </tr>\n",
              "    <tr>\n",
              "      <th>v12</th>\n",
              "      <td>284807.0</td>\n",
              "      <td>-1.247012e-15</td>\n",
              "      <td>0.999201</td>\n",
              "      <td>-18.683715</td>\n",
              "      <td>-0.405571</td>\n",
              "      <td>0.140033</td>\n",
              "      <td>0.618238</td>\n",
              "      <td>7.848392</td>\n",
              "    </tr>\n",
              "    <tr>\n",
              "      <th>v13</th>\n",
              "      <td>284807.0</td>\n",
              "      <td>8.190001e-16</td>\n",
              "      <td>0.995274</td>\n",
              "      <td>-5.791881</td>\n",
              "      <td>-0.648539</td>\n",
              "      <td>-0.013568</td>\n",
              "      <td>0.662505</td>\n",
              "      <td>7.126883</td>\n",
              "    </tr>\n",
              "    <tr>\n",
              "      <th>v14</th>\n",
              "      <td>284807.0</td>\n",
              "      <td>1.207294e-15</td>\n",
              "      <td>0.958596</td>\n",
              "      <td>-19.214325</td>\n",
              "      <td>-0.425574</td>\n",
              "      <td>0.050601</td>\n",
              "      <td>0.493150</td>\n",
              "      <td>10.526766</td>\n",
              "    </tr>\n",
              "    <tr>\n",
              "      <th>v15</th>\n",
              "      <td>284807.0</td>\n",
              "      <td>4.887456e-15</td>\n",
              "      <td>0.915316</td>\n",
              "      <td>-4.498945</td>\n",
              "      <td>-0.582884</td>\n",
              "      <td>0.048072</td>\n",
              "      <td>0.648821</td>\n",
              "      <td>8.877742</td>\n",
              "    </tr>\n",
              "    <tr>\n",
              "      <th>v16</th>\n",
              "      <td>284807.0</td>\n",
              "      <td>1.437716e-15</td>\n",
              "      <td>0.876253</td>\n",
              "      <td>-14.129855</td>\n",
              "      <td>-0.468037</td>\n",
              "      <td>0.066413</td>\n",
              "      <td>0.523296</td>\n",
              "      <td>17.315112</td>\n",
              "    </tr>\n",
              "    <tr>\n",
              "      <th>v17</th>\n",
              "      <td>284807.0</td>\n",
              "      <td>-3.772171e-16</td>\n",
              "      <td>0.849337</td>\n",
              "      <td>-25.162799</td>\n",
              "      <td>-0.483748</td>\n",
              "      <td>-0.065676</td>\n",
              "      <td>0.399675</td>\n",
              "      <td>9.253526</td>\n",
              "    </tr>\n",
              "    <tr>\n",
              "      <th>v18</th>\n",
              "      <td>284807.0</td>\n",
              "      <td>9.564149e-16</td>\n",
              "      <td>0.838176</td>\n",
              "      <td>-9.498746</td>\n",
              "      <td>-0.498850</td>\n",
              "      <td>-0.003636</td>\n",
              "      <td>0.500807</td>\n",
              "      <td>5.041069</td>\n",
              "    </tr>\n",
              "    <tr>\n",
              "      <th>v19</th>\n",
              "      <td>284807.0</td>\n",
              "      <td>1.039917e-15</td>\n",
              "      <td>0.814041</td>\n",
              "      <td>-7.213527</td>\n",
              "      <td>-0.456299</td>\n",
              "      <td>0.003735</td>\n",
              "      <td>0.458949</td>\n",
              "      <td>5.591971</td>\n",
              "    </tr>\n",
              "    <tr>\n",
              "      <th>v20</th>\n",
              "      <td>284807.0</td>\n",
              "      <td>6.406204e-16</td>\n",
              "      <td>0.770925</td>\n",
              "      <td>-54.497720</td>\n",
              "      <td>-0.211721</td>\n",
              "      <td>-0.062481</td>\n",
              "      <td>0.133041</td>\n",
              "      <td>39.420904</td>\n",
              "    </tr>\n",
              "    <tr>\n",
              "      <th>v21</th>\n",
              "      <td>284807.0</td>\n",
              "      <td>1.654067e-16</td>\n",
              "      <td>0.734524</td>\n",
              "      <td>-34.830382</td>\n",
              "      <td>-0.228395</td>\n",
              "      <td>-0.029450</td>\n",
              "      <td>0.186377</td>\n",
              "      <td>27.202839</td>\n",
              "    </tr>\n",
              "    <tr>\n",
              "      <th>v22</th>\n",
              "      <td>284807.0</td>\n",
              "      <td>-3.568593e-16</td>\n",
              "      <td>0.725702</td>\n",
              "      <td>-10.933144</td>\n",
              "      <td>-0.542350</td>\n",
              "      <td>0.006782</td>\n",
              "      <td>0.528554</td>\n",
              "      <td>10.503090</td>\n",
              "    </tr>\n",
              "    <tr>\n",
              "      <th>v23</th>\n",
              "      <td>284807.0</td>\n",
              "      <td>2.578648e-16</td>\n",
              "      <td>0.624460</td>\n",
              "      <td>-44.807735</td>\n",
              "      <td>-0.161846</td>\n",
              "      <td>-0.011193</td>\n",
              "      <td>0.147642</td>\n",
              "      <td>22.528412</td>\n",
              "    </tr>\n",
              "    <tr>\n",
              "      <th>v24</th>\n",
              "      <td>284807.0</td>\n",
              "      <td>4.473266e-15</td>\n",
              "      <td>0.605647</td>\n",
              "      <td>-2.836627</td>\n",
              "      <td>-0.354586</td>\n",
              "      <td>0.040976</td>\n",
              "      <td>0.439527</td>\n",
              "      <td>4.584549</td>\n",
              "    </tr>\n",
              "    <tr>\n",
              "      <th>v25</th>\n",
              "      <td>284807.0</td>\n",
              "      <td>5.340915e-16</td>\n",
              "      <td>0.521278</td>\n",
              "      <td>-10.295397</td>\n",
              "      <td>-0.317145</td>\n",
              "      <td>0.016594</td>\n",
              "      <td>0.350716</td>\n",
              "      <td>7.519589</td>\n",
              "    </tr>\n",
              "    <tr>\n",
              "      <th>v26</th>\n",
              "      <td>284807.0</td>\n",
              "      <td>1.683437e-15</td>\n",
              "      <td>0.482227</td>\n",
              "      <td>-2.604551</td>\n",
              "      <td>-0.326984</td>\n",
              "      <td>-0.052139</td>\n",
              "      <td>0.240952</td>\n",
              "      <td>3.517346</td>\n",
              "    </tr>\n",
              "    <tr>\n",
              "      <th>v27</th>\n",
              "      <td>284807.0</td>\n",
              "      <td>-3.660091e-16</td>\n",
              "      <td>0.403632</td>\n",
              "      <td>-22.565679</td>\n",
              "      <td>-0.070840</td>\n",
              "      <td>0.001342</td>\n",
              "      <td>0.091045</td>\n",
              "      <td>31.612198</td>\n",
              "    </tr>\n",
              "    <tr>\n",
              "      <th>v28</th>\n",
              "      <td>284807.0</td>\n",
              "      <td>-1.227390e-16</td>\n",
              "      <td>0.330083</td>\n",
              "      <td>-15.430084</td>\n",
              "      <td>-0.052960</td>\n",
              "      <td>0.011244</td>\n",
              "      <td>0.078280</td>\n",
              "      <td>33.847808</td>\n",
              "    </tr>\n",
              "    <tr>\n",
              "      <th>amount</th>\n",
              "      <td>284807.0</td>\n",
              "      <td>8.834962e+01</td>\n",
              "      <td>250.120109</td>\n",
              "      <td>0.000000</td>\n",
              "      <td>5.600000</td>\n",
              "      <td>22.000000</td>\n",
              "      <td>77.165000</td>\n",
              "      <td>25691.160000</td>\n",
              "    </tr>\n",
              "  </tbody>\n",
              "</table>\n",
              "</div>\n",
              "      <button class=\"colab-df-convert\" onclick=\"convertToInteractive('df-cf665363-840e-42c5-9efc-9906aa58744d')\"\n",
              "              title=\"Convert this dataframe to an interactive table.\"\n",
              "              style=\"display:none;\">\n",
              "        \n",
              "  <svg xmlns=\"http://www.w3.org/2000/svg\" height=\"24px\"viewBox=\"0 0 24 24\"\n",
              "       width=\"24px\">\n",
              "    <path d=\"M0 0h24v24H0V0z\" fill=\"none\"/>\n",
              "    <path d=\"M18.56 5.44l.94 2.06.94-2.06 2.06-.94-2.06-.94-.94-2.06-.94 2.06-2.06.94zm-11 1L8.5 8.5l.94-2.06 2.06-.94-2.06-.94L8.5 2.5l-.94 2.06-2.06.94zm10 10l.94 2.06.94-2.06 2.06-.94-2.06-.94-.94-2.06-.94 2.06-2.06.94z\"/><path d=\"M17.41 7.96l-1.37-1.37c-.4-.4-.92-.59-1.43-.59-.52 0-1.04.2-1.43.59L10.3 9.45l-7.72 7.72c-.78.78-.78 2.05 0 2.83L4 21.41c.39.39.9.59 1.41.59.51 0 1.02-.2 1.41-.59l7.78-7.78 2.81-2.81c.8-.78.8-2.07 0-2.86zM5.41 20L4 18.59l7.72-7.72 1.47 1.35L5.41 20z\"/>\n",
              "  </svg>\n",
              "      </button>\n",
              "      \n",
              "  <style>\n",
              "    .colab-df-container {\n",
              "      display:flex;\n",
              "      flex-wrap:wrap;\n",
              "      gap: 12px;\n",
              "    }\n",
              "\n",
              "    .colab-df-convert {\n",
              "      background-color: #E8F0FE;\n",
              "      border: none;\n",
              "      border-radius: 50%;\n",
              "      cursor: pointer;\n",
              "      display: none;\n",
              "      fill: #1967D2;\n",
              "      height: 32px;\n",
              "      padding: 0 0 0 0;\n",
              "      width: 32px;\n",
              "    }\n",
              "\n",
              "    .colab-df-convert:hover {\n",
              "      background-color: #E2EBFA;\n",
              "      box-shadow: 0px 1px 2px rgba(60, 64, 67, 0.3), 0px 1px 3px 1px rgba(60, 64, 67, 0.15);\n",
              "      fill: #174EA6;\n",
              "    }\n",
              "\n",
              "    [theme=dark] .colab-df-convert {\n",
              "      background-color: #3B4455;\n",
              "      fill: #D2E3FC;\n",
              "    }\n",
              "\n",
              "    [theme=dark] .colab-df-convert:hover {\n",
              "      background-color: #434B5C;\n",
              "      box-shadow: 0px 1px 3px 1px rgba(0, 0, 0, 0.15);\n",
              "      filter: drop-shadow(0px 1px 2px rgba(0, 0, 0, 0.3));\n",
              "      fill: #FFFFFF;\n",
              "    }\n",
              "  </style>\n",
              "\n",
              "      <script>\n",
              "        const buttonEl =\n",
              "          document.querySelector('#df-cf665363-840e-42c5-9efc-9906aa58744d button.colab-df-convert');\n",
              "        buttonEl.style.display =\n",
              "          google.colab.kernel.accessAllowed ? 'block' : 'none';\n",
              "\n",
              "        async function convertToInteractive(key) {\n",
              "          const element = document.querySelector('#df-cf665363-840e-42c5-9efc-9906aa58744d');\n",
              "          const dataTable =\n",
              "            await google.colab.kernel.invokeFunction('convertToInteractive',\n",
              "                                                     [key], {});\n",
              "          if (!dataTable) return;\n",
              "\n",
              "          const docLinkHtml = 'Like what you see? Visit the ' +\n",
              "            '<a target=\"_blank\" href=https://colab.research.google.com/notebooks/data_table.ipynb>data table notebook</a>'\n",
              "            + ' to learn more about interactive tables.';\n",
              "          element.innerHTML = '';\n",
              "          dataTable['output_type'] = 'display_data';\n",
              "          await google.colab.output.renderOutput(dataTable, element);\n",
              "          const docLink = document.createElement('div');\n",
              "          docLink.innerHTML = docLinkHtml;\n",
              "          element.appendChild(docLink);\n",
              "        }\n",
              "      </script>\n",
              "    </div>\n",
              "  </div>\n",
              "  "
            ]
          },
          "metadata": {},
          "execution_count": 2
        }
      ]
    },
    {
      "cell_type": "code",
      "source": [
        "df.info()"
      ],
      "metadata": {
        "colab": {
          "base_uri": "https://localhost:8080/"
        },
        "id": "QQfuK6WXVNVh",
        "outputId": "a763687d-946f-44e4-c00e-fcad21ec957e"
      },
      "execution_count": 3,
      "outputs": [
        {
          "output_type": "stream",
          "name": "stdout",
          "text": [
            "<class 'pandas.core.frame.DataFrame'>\n",
            "RangeIndex: 284807 entries, 0 to 284806\n",
            "Data columns (total 31 columns):\n",
            " #   Column  Non-Null Count   Dtype  \n",
            "---  ------  --------------   -----  \n",
            " 0   time    284807 non-null  int64  \n",
            " 1   v1      284807 non-null  float64\n",
            " 2   v2      284807 non-null  float64\n",
            " 3   v3      284807 non-null  float64\n",
            " 4   v4      284807 non-null  float64\n",
            " 5   v5      284807 non-null  float64\n",
            " 6   v6      284807 non-null  float64\n",
            " 7   v7      284807 non-null  float64\n",
            " 8   v8      284807 non-null  float64\n",
            " 9   v9      284807 non-null  float64\n",
            " 10  v10     284807 non-null  float64\n",
            " 11  v11     284807 non-null  float64\n",
            " 12  v12     284807 non-null  float64\n",
            " 13  v13     284807 non-null  float64\n",
            " 14  v14     284807 non-null  float64\n",
            " 15  v15     284807 non-null  float64\n",
            " 16  v16     284807 non-null  float64\n",
            " 17  v17     284807 non-null  float64\n",
            " 18  v18     284807 non-null  float64\n",
            " 19  v19     284807 non-null  float64\n",
            " 20  v20     284807 non-null  float64\n",
            " 21  v21     284807 non-null  float64\n",
            " 22  v22     284807 non-null  float64\n",
            " 23  v23     284807 non-null  float64\n",
            " 24  v24     284807 non-null  float64\n",
            " 25  v25     284807 non-null  float64\n",
            " 26  v26     284807 non-null  float64\n",
            " 27  v27     284807 non-null  float64\n",
            " 28  v28     284807 non-null  float64\n",
            " 29  amount  284807 non-null  float64\n",
            " 30  class   284807 non-null  bool   \n",
            "dtypes: bool(1), float64(29), int64(1)\n",
            "memory usage: 65.5 MB\n"
          ]
        }
      ]
    },
    {
      "cell_type": "markdown",
      "source": [
        "**b-Data visualisation**"
      ],
      "metadata": {
        "id": "XOHOJVhESwhe"
      }
    },
    {
      "cell_type": "code",
      "source": [
        "import warnings\n",
        "warnings.filterwarnings('ignore')"
      ],
      "metadata": {
        "id": "O5gFqHod9vm3"
      },
      "execution_count": 4,
      "outputs": []
    },
    {
      "cell_type": "code",
      "source": [
        "import seaborn as sns\n",
        "\n",
        "# variable class\n",
        "target=df[\"class\"]\n",
        "sns.countplot(target)\n",
        "print(\"Taille du dataset : \", df.shape)\n",
        "print(\"Il y a :\",sum(df[\"class\"]),\" observations classées dans la classe 1 (fraude).\")"
      ],
      "metadata": {
        "colab": {
          "base_uri": "https://localhost:8080/",
          "height": 314
        },
        "id": "oQT7GsHPJ7Oq",
        "outputId": "eeb07243-757b-43a8-cdc5-84f54bfe4d8d"
      },
      "execution_count": 5,
      "outputs": [
        {
          "output_type": "stream",
          "name": "stdout",
          "text": [
            "Taille du dataset :  (284807, 31)\n",
            "Il y a : 492  observations classées dans la classe 1 (fraude).\n"
          ]
        },
        {
          "output_type": "display_data",
          "data": {
            "text/plain": [
              "<Figure size 432x288 with 1 Axes>"
            ],
            "image/png": "[encoded data removed]"
          },
          "metadata": {
            "needs_background": "light"
          }
        }
      ]
    },
    {
      "cell_type": "code",
      "source": [
        "target.value_counts()"
      ],
      "metadata": {
        "colab": {
          "base_uri": "https://localhost:8080/"
        },
        "id": "wO9H359veWoP",
        "outputId": "05422bf0-6f55-4869-f12e-00f19925df26"
      },
      "execution_count": 6,
      "outputs": [
        {
          "output_type": "execute_result",
          "data": {
            "text/plain": [
              "False    284315\n",
              "True        492\n",
              "Name: class, dtype: int64"
            ]
          },
          "metadata": {},
          "execution_count": 6
        }
      ]
    },
    {
      "cell_type": "markdown",
      "source": [
        "On remarque que la variable cible est très déséquilibrée entre les deux classes."
      ],
      "metadata": {
        "id": "lOK1zwqtRntq"
      }
    },
    {
      "cell_type": "code",
      "source": [
        "sns.heatmap(df.corr())"
      ],
      "metadata": {
        "colab": {
          "base_uri": "https://localhost:8080/",
          "height": 301
        },
        "id": "rBAIAcJFayPs",
        "outputId": "aa555a71-cc92-4c8d-947d-aa5d9885965f"
      },
      "execution_count": 7,
      "outputs": [
        {
          "output_type": "execute_result",
          "data": {
            "text/plain": [
              "<matplotlib.axes._subplots.AxesSubplot at 0x7fdaf55cf350>"
            ]
          },
          "metadata": {},
          "execution_count": 7
        },
        {
          "output_type": "display_data",
          "data": {
            "text/plain": [
              "<Figure size 432x288 with 2 Axes>"
            ],
            "image/png": "[encoded data removed]"
          },
          "metadata": {
            "needs_background": "light"
          }
        }
      ]
    },
    {
      "cell_type": "markdown",
      "source": [
        "**2-Preprocessing**"
      ],
      "metadata": {
        "id": "DbxcAF9rJrAI"
      }
    },
    {
      "cell_type": "markdown",
      "source": [
        "Nous faisons un preprocessing des données en standardisant toutes les variables pour les ramener à la même échelle : moyenne=0 et variance=1. Puis à partir des données obtenues, nous répartissons les données en train set (70%) puis en test set (30%)."
      ],
      "metadata": {
        "id": "Ww58zh_f25LW"
      }
    },
    {
      "cell_type": "code",
      "source": [
        "from sklearn.preprocessing import LabelBinarizer, StandardScaler\n",
        "from sklearn.model_selection import train_test_split\n",
        "\n",
        "variables_du_modele = df.columns.drop(['class'])\n",
        "x = df[variables_du_modele]\n",
        "y = df['class']\n",
        "\n",
        "# convertir la variable target en numérique binaire\n",
        "y = LabelBinarizer().fit_transform(y)\n",
        "\n",
        "# Standardisation de tous les prédicteurs\n",
        "scaler = StandardScaler() \n",
        "scaled_values = scaler.fit_transform(x)\n",
        "x = pd.DataFrame(scaled_values, columns=x.columns)\n",
        "\n",
        "# separation en train_test   \n",
        "x_train, x_test, y_train, y_test = train_test_split(x, y, test_size=0.3, random_state=23)\n",
        "    \n",
        "#y_train = y_train.values.reshape((-1,1))\n",
        "#y_test = y_test.values.reshape((-1,1))\n",
        "\n",
        "print(line)\n",
        "print(\"Taille train set : \", x_train.shape)\n",
        "s_train = pd.DataFrame(y_train).value_counts()\n",
        "print(s_train)\n",
        "print(line)\n",
        "print(\"Taille test set : \", x_test.shape)\n",
        "s_test = pd.DataFrame(y_test).value_counts()\n",
        "print(s_test)"
      ],
      "metadata": {
        "colab": {
          "base_uri": "https://localhost:8080/"
        },
        "id": "8qyBS-I3-z2E",
        "outputId": "5600ba76-3c19-40d2-e961-d49a1a425c94"
      },
      "execution_count": 8,
      "outputs": [
        {
          "output_type": "stream",
          "name": "stdout",
          "text": [
            "==================================================\n",
            "Taille train set :  (199364, 30)\n",
            "0    199011\n",
            "1       353\n",
            "dtype: int64\n",
            "==================================================\n",
            "Taille test set :  (85443, 30)\n",
            "0    85304\n",
            "1      139\n",
            "dtype: int64\n"
          ]
        }
      ]
    },
    {
      "cell_type": "markdown",
      "source": [
        "from sklearn.preprocessing import LabelBinarizer\n",
        "from sklearn.model_selection import train_test_split\n",
        "\n",
        "y = data.iloc[:,-1]\n",
        "X = data.iloc[:,:-1]\n",
        "\n",
        "print(\"Matrice des X\")\n",
        "print(X)\n",
        "print(sep)\n",
        "print(line)\n",
        "print(y)\n",
        "\n",
        "y = LabelBinarizer().fit_transform(y)\n",
        "print(y)\n",
        "\n",
        "x_train, x_test, y_train, y_test = train_test_split(X, y, test_size=0.3)"
      ],
      "metadata": {
        "id": "qjFg2LTC_JMZ"
      }
    },
    {
      "cell_type": "markdown",
      "source": [
        "**3-Modèles à tester :**<br> LR, SGD classifier et Bayésien Naïf<br><br>\n",
        "Justification :<br> Sachant qu'on a jeu de données de plus de 200 000 observations, il ne serait pas efficace d'utiliser des modèles qui classent les observations en se basant sur leurs distance par rapport aux autres observations du dataset. Cette catégorie de modèles inclut les SVMClassifier, KNN et autres.. le temps de calcul serait trop long pour chacun des outputs.<br><br>\n",
        "**a-Regression logistique sans validation croisée**"
      ],
      "metadata": {
        "id": "MozDEtViKikD"
      }
    },
    {
      "cell_type": "code",
      "source": [
        "from sklearn.linear_model import LogisticRegression\n",
        "from  sklearn.metrics import confusion_matrix, accuracy_score, recall_score\n",
        "import matplotlib.pyplot as plt\n",
        "import seaborn as sns\n",
        "import numpy as np\n",
        "\n",
        "# Estimation LR\n",
        "clfLR = LogisticRegression()\n",
        "clfLR.fit(x_train, y_train)\n",
        "y_pred = clfLR.predict(x_test)\n",
        "\n",
        "# Evaluation\n",
        "acc_scoreLR = accuracy_score(y_test, y_pred)\n",
        "tprLR = recall_score(y_test, y_pred)\n",
        "cmLR = confusion_matrix(y_test, y_pred)\n",
        "fprLR = cmLR[0,1]/(cmLR[0,1]+cmLR[0,0])# spécificité\n",
        "print(line)\n",
        "print(\"Logistic regression\")\n",
        "print(cmLR)\n",
        "print(\"Accuracy score : \",round(acc_scoreLR*100,2), \" %.\")\n",
        "print(\"Recall score/taux de vraies fraudes détectées : \",round(tprLR*100,2), \" %.\") \n",
        "print(\"Specificity score/fraudes non détectées : \",round(fprLR*100,2), \" %.\")\n",
        "\n",
        "print(line)\n",
        "sns.heatmap(cmLR/np.sum(cmLR), annot=True, fmt='.3%', cmap=\"Blues\")\n",
        "plt.show()"
      ],
      "metadata": {
        "colab": {
          "base_uri": "https://localhost:8080/",
          "height": 404
        },
        "id": "a02puC14KhV6",
        "outputId": "d428bd9e-8495-4fce-caac-1a65c272d0df"
      },
      "execution_count": 9,
      "outputs": [
        {
          "output_type": "stream",
          "name": "stdout",
          "text": [
            "==================================================\n",
            "Logistic regression\n",
            "[[85285    19]\n",
            " [   42    97]]\n",
            "Accuracy score :  99.93  %.\n",
            "Recall score/taux de vraies fraudes détectées :  69.78  %.\n",
            "Specificity score/fraudes non détectées :  0.02  %.\n",
            "==================================================\n"
          ]
        },
        {
          "output_type": "display_data",
          "data": {
            "text/plain": [
              "<Figure size 432x288 with 2 Axes>"
            ],
            "image/png": "[encoded data removed]"
          },
          "metadata": {
            "needs_background": "light"
          }
        }
      ]
    },
    {
      "cell_type": "markdown",
      "source": [
        "Le modèle LR donne un fort taux d'accuracy (99.93%) mais cela est uniquement dû aux bonnes prédictions dans la classe \"Non Fraudes\". Le taux de vraies fraudes détectées obtenue grâce au recall (True Positive Rate) n'est pas élevé (69.78%). Le taux de fraudes non détectées (False Positive Rate) quant à lui, est assez faible. Cela pourrait être dû au fait qu'il y a peu de \"Fraudes\" dans le dataset.<br><br>\n",
        "**b-Descente de gradient SGD sans validation croisée**"
      ],
      "metadata": {
        "id": "rinkH0OWhlaT"
      }
    },
    {
      "cell_type": "code",
      "source": [
        "from sklearn.linear_model import SGDClassifier\n",
        "\n",
        "# Estimation SGDClassifier\n",
        "clfSGD = SGDClassifier(loss='squared_error', max_iter=1000)\n",
        "clfSGD = clfSGD.fit(x_train, y_train)\n",
        "y_pred = clfSGD.predict(x_test)\n",
        "\n",
        "# Evaluation\n",
        "acc_scoreSGD = accuracy_score(y_test, y_pred)\n",
        "tprSGD = recall_score(y_test, y_pred)\n",
        "cmSGD = confusion_matrix(y_test, y_pred)\n",
        "fprSGD = cmSGD[0,1]/(cmSGD[0,1]+cmSGD[0,0])# spécificité\n",
        "print(line)\n",
        "print(\"SGD CLassifier\")\n",
        "print(cmSGD)\n",
        "print(\"Accuracy score : \",round(acc_scoreSGD*100,2), \" %.\")\n",
        "print(\"Recall score/taux de vraies fraudes détectées : \",round(tprSGD*100,2), \" %.\") \n",
        "print(\"Specificity score/fraudes non détectées : \",round(fprSGD*100,2), \" %.\")\n",
        "\n",
        "print(line)\n",
        "sns.heatmap(cmSGD/np.sum(cmSGD), annot=True, fmt='.3%', cmap=\"Blues\")\n",
        "plt.show()"
      ],
      "metadata": {
        "colab": {
          "base_uri": "https://localhost:8080/",
          "height": 404
        },
        "id": "oI9ayvQNzuzF",
        "outputId": "e246e7ec-ac41-4f0c-d70e-9f85fddb92c5"
      },
      "execution_count": 10,
      "outputs": [
        {
          "output_type": "stream",
          "name": "stdout",
          "text": [
            "==================================================\n",
            "SGD CLassifier\n",
            "[[85279    25]\n",
            " [   20   119]]\n",
            "Accuracy score :  99.95  %.\n",
            "Recall score/taux de vraies fraudes détectées :  85.61  %.\n",
            "Specificity score/fraudes non détectées :  0.03  %.\n",
            "==================================================\n"
          ]
        },
        {
          "output_type": "display_data",
          "data": {
            "text/plain": [
              "<Figure size 432x288 with 2 Axes>"
            ],
            "image/png": "[encoded data removed]"
          },
          "metadata": {
            "needs_background": "light"
          }
        }
      ]
    },
    {
      "cell_type": "markdown",
      "source": [
        "Nous faisons le même constat sur le SGD. L'accuracy est très bon (99.89%) mais il est biaisé puisque le taux de vraies fraudes détectées est très faible (44.6%) et plus faible que celui de la regression logistique.<br><br>\n",
        "\n",
        "**c-Bayésien Naïf avec noyau Guassien sans validation croisée**<br>\n",
        "Nous choisissons de tester ce modèle car les facteurs (V1 à V26) sont tous independants et on note une faible \n",
        "corrélation avec les autres varibales (cf. matrice de corrélation). Or l'une des hypothèses de base du Bayésien Naîf est que les prédicteurs soient indépendants afin de pouvoir calculer la probabilité à postériori."
      ],
      "metadata": {
        "id": "SKb50KoU02fl"
      }
    },
    {
      "cell_type": "code",
      "source": [
        "# MODLELE NB \n",
        "from sklearn.naive_bayes import GaussianNB\n",
        "\n",
        "clfGNB = GaussianNB()\n",
        "clfGNB.fit(x_train, y_train)\n",
        "y_pred = clfGNB.predict(x_test)\n",
        "\n",
        "# Evaluation\n",
        "acc_scoreGNB = accuracy_score(y_test, y_pred)\n",
        "tprGNB = recall_score(y_test, y_pred)\n",
        "cmGNB = confusion_matrix(y_test, y_pred)\n",
        "fprGNB = cmGNB[0,1]/(cmGNB[0,1]+cmGNB[0,0])# spécificité\n",
        "print(line)\n",
        "print(cmGNB)\n",
        "print(\"Accuracy score : \",round(acc_scoreGNB*100,2), \" %.\")\n",
        "print(\"Recall score/taux de vraies fraudes détectées : \",round(tprGNB*100,2), \" %.\") \n",
        "print(\"Specificity score/fraudes non détectées : \",round(fprGNB*100,2), \" %.\")\n",
        "\n",
        "print(line)\n",
        "sns.heatmap(cmLR/np.sum(cmGNB), annot=True, fmt='.3%', cmap=\"Blues\")\n",
        "plt.show()"
      ],
      "metadata": {
        "id": "Gzp02-aQ1ktL",
        "colab": {
          "base_uri": "https://localhost:8080/",
          "height": 387
        },
        "outputId": "836a6525-adc7-440e-ba0e-7201c5c99644"
      },
      "execution_count": 11,
      "outputs": [
        {
          "output_type": "stream",
          "name": "stdout",
          "text": [
            "==================================================\n",
            "[[83447  1857]\n",
            " [   14   125]]\n",
            "Accuracy score :  97.81  %.\n",
            "Recall score/taux de vraies fraudes détectées :  89.93  %.\n",
            "Specificity score/fraudes non détectées :  2.18  %.\n",
            "==================================================\n"
          ]
        },
        {
          "output_type": "display_data",
          "data": {
            "text/plain": [
              "<Figure size 432x288 with 2 Axes>"
            ],
            "image/png": "[encoded data removed]"
          },
          "metadata": {
            "needs_background": "light"
          }
        }
      ]
    },
    {
      "cell_type": "markdown",
      "source": [
        "Le bayésien naïf à noyau gaussien donne un accuracy inférieur à celui des deux modèles précédents, mais un taux de fraudes détectées bien supérieur (89.93%). Il est à cette étape notre meilleur modèle pour détecter la fraude avec ce dataset."
      ],
      "metadata": {
        "id": "sdpzLviO6HaA"
      }
    },
    {
      "cell_type": "markdown",
      "source": [
        "**4-CROSS VALIDATION :**<br>\n",
        "Puisqu'il y a de fortes chances que les résultats que nous avons obtenus précédemment soient dûs au hasard de la répartition des données en train set et en test set, nous reprenons chacun des modèles avec la validation croisée (basée sur la méthode du **StratifiedKFold** qui corrige le déséquilibre des classes à chaque répartition). Cette méthode permettra d'obtenir un performance moyenne des modèles avec un écart-type de la performance sur tout le dataset.<br><br> \n",
        "\n",
        "\n",
        "**a-CV : Régression logistique**<br>\n",
        "avec les données normalisées"
      ],
      "metadata": {
        "id": "-MTrlkTnmKco"
      }
    },
    {
      "cell_type": "code",
      "source": [
        "from sklearn.model_selection import StratifiedKFold, cross_val_score\n",
        "from statistics import mean, stdev\n",
        "from sklearn.preprocessing import StandardScaler\n",
        "\n",
        "X1 = x.copy()\n",
        "#X1 = X1.drop(['time'], axis=1)\n",
        "X1 = np.array(X1)\n",
        "  \n",
        "# instanciation du classifier \n",
        "lr = LogisticRegression()\n",
        "  \n",
        "# instanciation de la classe stratifiedKFold\n",
        "skf = StratifiedKFold(n_splits=10, shuffle=True, random_state=23)\n",
        "lst_recall_stratified_std = []\n",
        "\n",
        "for train_index, test_index in skf.split(X1, y):\n",
        "    x_train_fold, x_test_fold = X1[train_index,], X1[test_index,]\n",
        "    y_train_fold, y_test_fold = y[train_index,], y[test_index,]\n",
        "    lr.fit(x_train_fold, y_train_fold)\n",
        "    y_pred_fold = lr.predict(x_test_fold)\n",
        "    recall_fold = recall_score(y_test_fold, y_pred_fold)\n",
        "    lst_recall_stratified_std.append(recall_fold)\n",
        "  \n",
        "# output\n",
        "print(line)\n",
        "print('Liste des recall score/taux de vraies fraudes détectées :', lst_recall_stratified_std)\n",
        "print('Maximum recall :', max(lst_recall_stratified_std)*100, '%')\n",
        "print('Minimum recall :', min(lst_recall_stratified_std)*100, '%')\n",
        "print('Recall Moyen :', mean(lst_recall_stratified_std)*100, '%')\n",
        "print('Standard Deviation :', stdev(lst_recall_stratified_std))"
      ],
      "metadata": {
        "id": "IUq9oY2mmJQY",
        "colab": {
          "base_uri": "https://localhost:8080/"
        },
        "outputId": "a9f32356-3127-408a-ba22-97391f6608f4"
      },
      "execution_count": 12,
      "outputs": [
        {
          "output_type": "stream",
          "name": "stdout",
          "text": [
            "==================================================\n",
            "Liste des recall score/taux de vraies fraudes détectées : [0.4897959183673469, 0.673469387755102, 0.6326530612244898, 0.673469387755102, 0.5306122448979592, 0.56, 0.68, 0.6122448979591837, 0.6938775510204082, 0.6530612244897959]\n",
            "Maximum recall : 69.38775510204081 %\n",
            "Minimum recall : 48.97959183673469 %\n",
            "Recall Moyen : 61.991836734693884 %\n",
            "Standard Deviation : 0.07042122196425299\n"
          ]
        }
      ]
    },
    {
      "cell_type": "markdown",
      "source": [
        "avec les données standardisées"
      ],
      "metadata": {
        "id": "x-fBdKQV_2Aw"
      }
    },
    {
      "cell_type": "code",
      "source": [
        "from sklearn.preprocessing import MinMaxScaler\n",
        "\n",
        "X1 = df[variables_du_modele].copy()\n",
        "#X1 = X1.drop(['time'], axis=1)\n",
        "X1 = np.array(X1)\n",
        "\n",
        "# instanciation du classifier \n",
        "scaler = MinMaxScaler()\n",
        "X1 = scaler.fit_transform(X1)\n",
        "\n",
        "# instanciation du classifier \n",
        "lr = LogisticRegression()\n",
        "  \n",
        "# instanciation de la classe stratifiedKFold\n",
        "skf = StratifiedKFold(n_splits=10, shuffle=True, random_state=23)\n",
        "lst_recall_stratified_mms = []\n",
        "\n",
        "for train_index, test_index in skf.split(X1, y):\n",
        "    x_train_fold, x_test_fold = X1[train_index,], X1[test_index,]\n",
        "    y_train_fold, y_test_fold = y[train_index,], y[test_index,]\n",
        "    lr.fit(x_train_fold, y_train_fold)\n",
        "    y_pred_fold = lr.predict(x_test_fold)\n",
        "    recall_fold = recall_score(y_test_fold, y_pred_fold)\n",
        "    lst_recall_stratified_mms.append(recall_fold)\n",
        "  \n",
        "# output\n",
        "print(line)\n",
        "print('Liste des recall score/taux de vraies fraudes détectées :', lst_recall_stratified_mms)\n",
        "print('Maximum recall :', max(lst_recall_stratified_mms)*100, '%')\n",
        "print('Minimum recall:', min(lst_recall_stratified_mms)*100, '%')\n",
        "print('Recall moyen :', mean(lst_recall_stratified_mms)*100, '%')\n",
        "print('Standard Deviation :', stdev(lst_recall_stratified_mms))"
      ],
      "metadata": {
        "colab": {
          "base_uri": "https://localhost:8080/"
        },
        "id": "EkaKSYruHD7w",
        "outputId": "4931c2ce-7f35-4f14-8210-0c89c0758f50"
      },
      "execution_count": 13,
      "outputs": [
        {
          "output_type": "stream",
          "name": "stdout",
          "text": [
            "==================================================\n",
            "Liste des recall score/taux de vraies fraudes détectées : [0.3877551020408163, 0.5918367346938775, 0.5714285714285714, 0.6326530612244898, 0.5102040816326531, 0.48, 0.58, 0.5102040816326531, 0.5918367346938775, 0.5918367346938775]\n",
            "Maximum recall : 63.26530612244898 %\n",
            "Minimum recall: 38.775510204081634 %\n",
            "Recall moyen : 54.477551020408164 %\n",
            "Standard Deviation : 0.072693827896105\n"
          ]
        }
      ]
    },
    {
      "cell_type": "code",
      "source": [
        "plt.plot(lst_recall_stratified_mms)\n",
        "plt.plot(lst_recall_stratified_std)\n",
        "plt.legend(['X standardized', 'X normalized'])\n",
        "plt.show()"
      ],
      "metadata": {
        "colab": {
          "base_uri": "https://localhost:8080/",
          "height": 265
        },
        "id": "YrMW-y45HwTO",
        "outputId": "76df8bab-67f7-49f8-adcd-21b99701945c"
      },
      "execution_count": 14,
      "outputs": [
        {
          "output_type": "display_data",
          "data": {
            "text/plain": [
              "<Figure size 432x288 with 1 Axes>"
            ],
            "image/png": "[encoded data removed]"
          },
          "metadata": {
            "needs_background": "light"
          }
        }
      ]
    },
    {
      "cell_type": "markdown",
      "source": [
        "On constate qu'avec les données normalisées on a un meilleur score à chaque tour de la validation croisée. De plus **avec les données normalisées, la regression logistique détecte en moyenne 61.99% de \"fraudes avec 0.07 d'écart-type\"**. Les deux types de données donnent des écarts types similaires (0.07). "
      ],
      "metadata": {
        "id": "AxrpN7zmAMcD"
      }
    },
    {
      "cell_type": "markdown",
      "source": [
        "**b-CROSS VALIDATION : SGD** avec données normalisées"
      ],
      "metadata": {
        "id": "8b3wyxBkSdDN"
      }
    },
    {
      "cell_type": "code",
      "source": [
        "X1 = x.copy()\n",
        "#X1 = X1.drop(['time'], axis=1)\n",
        "X1 = np.array(X1)\n",
        "  \n",
        "# classifier\n",
        "sgd = SGDClassifier(loss='squared_error', max_iter=50000)\n",
        "\n",
        "# StratifiedKFold\n",
        "skf = StratifiedKFold(n_splits=10, shuffle=True, random_state=1)\n",
        "lst_recall_stratified_std = []\n",
        "\n",
        "for train_index, test_index in skf.split(X1, y):\n",
        "    x_train_fold, x_test_fold = X1[train_index,], X1[test_index,]\n",
        "    y_train_fold, y_test_fold = y[train_index,], y[test_index,]\n",
        "    sgd.fit(x_train_fold, y_train_fold)\n",
        "    y_pred_fold = sgd.predict(x_test_fold)\n",
        "    recall_fold = recall_score(y_test_fold, y_pred_fold)\n",
        "    lst_recall_stratified_std.append(recall_fold)\n",
        "  \n",
        "# output\n",
        "print(sep)\n",
        "print(line)\n",
        "print('Liste des recall :', lst_recall_stratified_std)\n",
        "print('Maximum recall :', max(lst_recall_stratified_std)*100, '%')\n",
        "print('Minimum recall :', min(lst_recall_stratified_std)*100, '%')\n",
        "print('Overall recall :', mean(lst_recall_stratified_std)*100, '%')\n",
        "print('Standard Dev :', stdev(lst_recall_stratified_std))"
      ],
      "metadata": {
        "id": "njtNz5IPIf3A",
        "colab": {
          "base_uri": "https://localhost:8080/"
        },
        "outputId": "898acd4a-2eed-4ada-fe65-e01465c6cbfb"
      },
      "execution_count": 15,
      "outputs": [
        {
          "output_type": "stream",
          "name": "stdout",
          "text": [
            "\n",
            "\n",
            "==================================================\n",
            "Liste des recall : [0.30612244897959184, 0.0, 0.5510204081632653, 0.0, 0.32653061224489793, 0.72, 0.28, 0.5510204081632653, 0.4897959183673469, 0.0]\n",
            "Maximum recall : 72.0 %\n",
            "Minimum recall : 0.0 %\n",
            "Overall recall : 32.244897959183675 %\n",
            "Standard Dev : 0.25917535294730887\n"
          ]
        }
      ]
    },
    {
      "cell_type": "code",
      "source": [
        "X1 = df[variables_du_modele].copy()\n",
        "#X1 = X1.drop(['time'], axis=1)\n",
        "X1 = np.array(X1)\n",
        "\n",
        "# Scaling \n",
        "scaler = MinMaxScaler()\n",
        "X1 = scaler.fit_transform(X1)\n",
        "  \n",
        "# classifier\n",
        "sgd = SGDClassifier(loss='squared_error', max_iter=50000)\n",
        "  \n",
        "# StratifiedKFold\n",
        "skf = StratifiedKFold(n_splits=10, shuffle=True, random_state=1)\n",
        "lst_recall_stratified_mms = []\n",
        "\n",
        "for train_index, test_index in skf.split(X1, y):\n",
        "    x_train_fold, x_test_fold = X1[train_index,], X1[test_index,]\n",
        "    y_train_fold, y_test_fold = y[train_index,], y[test_index,]\n",
        "    sgd.fit(x_train_fold, y_train_fold)\n",
        "    y_pred_fold = sgd.predict(x_test_fold)\n",
        "    recall_fold = recall_score(y_test_fold, y_pred_fold)\n",
        "    lst_recall_stratified_mms.append(recall_fold)\n",
        "  \n",
        "# output\n",
        "print(sep)\n",
        "print(line)\n",
        "print('List des recalls :', lst_recall_stratified_mms)\n",
        "print('Maximum recall :', max(lst_recall_stratified_mms)*100, '%')\n",
        "print('Minimum recall:', min(lst_recall_stratified_mms)*100, '%')\n",
        "print('Recall moyen :', mean(lst_recall_stratified_mms)*100, '%')\n",
        "print('Standard Dev :', stdev(lst_recall_stratified_mms))"
      ],
      "metadata": {
        "id": "oDEooS56S61h"
      },
      "execution_count": null,
      "outputs": []
    },
    {
      "cell_type": "code",
      "source": [
        "#plt.plot(lst_recall_stratified_mms)\n",
        "plt.plot(lst_recall_stratified_std)\n",
        "#plt.legend(['X standardized', 'X normalized'])\n",
        "plt.show()"
      ],
      "metadata": {
        "colab": {
          "base_uri": "https://localhost:8080/",
          "height": 265
        },
        "id": "zUwmE3kiUI8P",
        "outputId": "48d60929-ea9f-40c5-bb43-a6faa12669da"
      },
      "execution_count": 16,
      "outputs": [
        {
          "output_type": "display_data",
          "data": {
            "text/plain": [
              "<Figure size 432x288 with 1 Axes>"
            ],
            "image/png": "[encoded data removed]"
          },
          "metadata": {
            "needs_background": "light"
          }
        }
      ]
    },
    {
      "cell_type": "markdown",
      "source": [
        "Demande beaucoup d'itérations pour que certains tours de la validation croisée aboutissent. "
      ],
      "metadata": {
        "id": "kXaHDnF9D7oU"
      }
    },
    {
      "cell_type": "markdown",
      "source": [
        "**c-Bayésien Naïf à noyau gaussien :**<br>avec données normalisées"
      ],
      "metadata": {
        "id": "AG_KJwreEJW-"
      }
    },
    {
      "cell_type": "code",
      "source": [
        "X1 = x.copy()\n",
        "#X1 = X1.drop(['time'], axis=1)\n",
        "X1 = np.array(X1)\n",
        "  \n",
        "# classifier\n",
        "gnb = GaussianNB()\n",
        "\n",
        "# StratifiedKFold\n",
        "skf = StratifiedKFold(n_splits=10, shuffle=True, random_state=1)\n",
        "lst_recall_stratified_std = []\n",
        "\n",
        "for train_index, test_index in skf.split(X1, y):\n",
        "    x_train_fold, x_test_fold = X1[train_index,], X1[test_index,]\n",
        "    y_train_fold, y_test_fold = y[train_index,], y[test_index,]\n",
        "    gnb.fit(x_train_fold, y_train_fold)\n",
        "    y_pred_fold = gnb.predict(x_test_fold)\n",
        "    recall_fold = recall_score(y_test_fold, y_pred_fold)\n",
        "    lst_recall_stratified_std.append(recall_fold)\n",
        "  \n",
        "# output\n",
        "print(line)\n",
        "print('Liste des recall :', lst_recall_stratified_std)\n",
        "print('Maximum recall :', max(lst_recall_stratified_std)*100, '%')\n",
        "print('Minimum recall :', min(lst_recall_stratified_std)*100, '%')\n",
        "print('Overall recall :', mean(lst_recall_stratified_std)*100, '%')\n",
        "print('Standard Dev :', stdev(lst_recall_stratified_std))"
      ],
      "metadata": {
        "colab": {
          "base_uri": "https://localhost:8080/"
        },
        "id": "K_DazetUEG9r",
        "outputId": "b3e14fd8-297a-4e0d-df6a-92ca6cb94628"
      },
      "execution_count": 21,
      "outputs": [
        {
          "output_type": "stream",
          "name": "stdout",
          "text": [
            "==================================================\n",
            "Liste des recall : [0.8367346938775511, 0.7755102040816326, 0.8571428571428571, 0.8571428571428571, 0.8163265306122449, 0.78, 0.88, 0.7959183673469388, 0.8163265306122449, 0.8775510204081632]\n",
            "Maximum recall : 88.0 %\n",
            "Minimum recall : 77.55102040816327 %\n",
            "Overall recall : 82.9265306122449 %\n",
            "Standard Dev : 0.038411731937606934\n"
          ]
        }
      ]
    },
    {
      "cell_type": "markdown",
      "source": [
        "avec données standardisées"
      ],
      "metadata": {
        "id": "mU-xbqw_EWEu"
      }
    },
    {
      "cell_type": "code",
      "source": [
        "X1 = df[variables_du_modele].copy()\n",
        "#X1 = X1.drop(['time'], axis=1)\n",
        "X1 = np.array(X1)\n",
        "\n",
        "# Scaling \n",
        "scaler = MinMaxScaler()\n",
        "X1 = scaler.fit_transform(X1)\n",
        "  \n",
        "# classifier\n",
        "gnb = GaussianNB()\n",
        "  \n",
        "# StratifiedKFold\n",
        "skf = StratifiedKFold(n_splits=10, shuffle=True, random_state=1)\n",
        "lst_recall_stratified_mms = []\n",
        "\n",
        "for train_index, test_index in skf.split(X1, y):\n",
        "    x_train_fold, x_test_fold = X1[train_index,], X1[test_index,]\n",
        "    y_train_fold, y_test_fold = y[train_index,], y[test_index,]\n",
        "    gnb.fit(x_train_fold, y_train_fold)\n",
        "    y_pred_fold = gnb.predict(x_test_fold)\n",
        "    recall_fold = recall_score(y_test_fold, y_pred_fold)\n",
        "    lst_recall_stratified_mms.append(recall_fold)\n",
        "  \n",
        "# output\n",
        "print(line)\n",
        "print('List des recalls :', lst_recall_stratified_mms)\n",
        "print('Maximum recall :', max(lst_recall_stratified_mms)*100, '%')\n",
        "print('Minimum recall:', min(lst_recall_stratified_mms)*100, '%')\n",
        "print('Recall moyen :', mean(lst_recall_stratified_mms)*100, '%')\n",
        "print('Standard Dev :', stdev(lst_recall_stratified_mms))"
      ],
      "metadata": {
        "colab": {
          "base_uri": "https://localhost:8080/"
        },
        "id": "MRp-29NAEHcV",
        "outputId": "5a213cae-4db0-4f02-ea9a-0223950c6623"
      },
      "execution_count": 25,
      "outputs": [
        {
          "output_type": "stream",
          "name": "stdout",
          "text": [
            "==================================================\n",
            "List des recalls : [0.8367346938775511, 0.7755102040816326, 0.8571428571428571, 0.8571428571428571, 0.8163265306122449, 0.78, 0.88, 0.7959183673469388, 0.8163265306122449, 0.8775510204081632]\n",
            "Maximum recall : 88.0 %\n",
            "Minimum recall: 77.55102040816327 %\n",
            "Recall moyen : 82.9265306122449 %\n",
            "Standard Dev : 0.038411731937606934\n"
          ]
        }
      ]
    },
    {
      "cell_type": "code",
      "source": [
        "plt.plot(lst_recall_stratified_mms)\n",
        "plt.plot(lst_recall_stratified_std)\n",
        "plt.legend(['X standardized', 'X normalized'])\n",
        "plt.show()"
      ],
      "metadata": {
        "colab": {
          "base_uri": "https://localhost:8080/",
          "height": 265
        },
        "id": "N9BdkOJQEHPq",
        "outputId": "1a97d20e-3898-4ac0-ad67-fbb7cdde7b6a"
      },
      "execution_count": 23,
      "outputs": [
        {
          "output_type": "display_data",
          "data": {
            "text/plain": [
              "<Figure size 432x288 with 1 Axes>"
            ],
            "image/png": "[encoded data removed]"
          },
          "metadata": {
            "needs_background": "light"
          }
        }
      ]
    },
    {
      "cell_type": "markdown",
      "source": [
        "**Conclusion partielle :**<br> \n",
        "Bayésien naïf meilleur"
      ],
      "metadata": {
        "id": "R3A6dBQK5Xxh"
      }
    },
    {
      "cell_type": "markdown",
      "source": [
        "**Réseaux de neuronnes**<br>\n",
        "Nous allons programmer un réseau de neuronnes simple à 4 couches à partir de la librarie keras de tensorflow. Nous comparerons par la suite les métriques recall et fpr à celles des modèle LR, Descente de Gradient et Naïve Bayesien."
      ],
      "metadata": {
        "id": "BLiPd4GY5cY7"
      }
    },
    {
      "cell_type": "code",
      "source": [
        "EPOCHS = 100\n",
        "BATCH_SIZE = 256\n",
        "display_graphs = True"
      ],
      "metadata": {
        "id": "rZga5VPl5bso"
      },
      "execution_count": 26,
      "outputs": []
    },
    {
      "cell_type": "code",
      "source": [
        "import tensorflow\n",
        "from tensorflow.keras import Sequential\n",
        "from tensorflow.keras.layers import Dense, Dropout\n",
        "from tensorflow.keras.optimizers import Adam\n",
        "from tensorflow.keras.callbacks import ModelCheckpoint, EarlyStopping"
      ],
      "metadata": {
        "id": "-0fhaaNe9quG"
      },
      "execution_count": 27,
      "outputs": []
    },
    {
      "cell_type": "markdown",
      "source": [
        "Loss func : binary crossentropy car la variable target est binaire (0 ou 1)\n",
        "Activation function dernière couche : sigmoïd car c'est la seule compatible avec la BC. \n",
        "nb_entries : nbre de prédicteurs\n",
        "Early stopping : pour que le paramètre évalué par la loss func ne soit plus optimisé dès lors que la valeur de la loss func commence à augmenter"
      ],
      "metadata": {
        "id": "IMbiibE0-dfn"
      }
    },
    {
      "cell_type": "code",
      "source": [
        "# RN\n",
        "\n",
        "model = Sequential()\n",
        "    \n",
        "nb_entries = 30\n",
        "nb_neurons_hidden_layer_1, nb_neurons_hidden_layer_2 = 64, 16  # décroissant\n",
        "    \n",
        "model.add(Dense(nb_neurons_hidden_layer_1, input_dim = nb_entries, activation = \"relu\"))\n",
        "model.add(Dropout(0.5)) # extinction aléatoire de la moitié des neuronnes pour contrôler le sur apprentissage\n",
        "model.add(Dense(nb_neurons_hidden_layer_2, activation = \"softplus\"))\n",
        "model.add(Dropout(0.5))\n",
        "model.add(Dense(1, activation = \"sigmoid\"))\n",
        "    \n",
        "model.compile(loss=\"binary_crossentropy\",\n",
        "                  optimizer=Adam(learning_rate=0.005),\n",
        "                  metrics=[\"accuracy\", \n",
        "                           tensorflow.keras.metrics.Recall(name='recall'), \n",
        "                           tensorflow.keras.metrics.FalsePositives(name=\"fp\"), \n",
        "                           tensorflow.keras.metrics.TrueNegatives(name=\"tn\")])\n",
        "\n",
        "# apprentissage\n",
        "history = model.fit(x_train, y_train, \n",
        "                    epochs=EPOCHS,\n",
        "                    batch_size=BATCH_SIZE, \n",
        "                    verbose = 0, validation_data=(x_train, y_train))\n",
        "\n",
        "# affichage des metriques disponibles \n",
        "print(history.history.keys())\n"
      ],
      "metadata": {
        "colab": {
          "base_uri": "https://localhost:8080/"
        },
        "id": "UOBEIMhS9uZv",
        "outputId": "5f305064-e17b-4946-9051-1ce6aaaa6fd2"
      },
      "execution_count": 29,
      "outputs": [
        {
          "output_type": "stream",
          "name": "stdout",
          "text": [
            "dict_keys(['loss', 'accuracy', 'recall', 'fp', 'tn', 'val_loss', 'val_accuracy', 'val_recall', 'val_fp', 'val_tn'])\n"
          ]
        }
      ]
    },
    {
      "cell_type": "markdown",
      "source": [
        "# recall : \n",
        "#tf.keras.metrics.FalsePositives(name=\"fp\"), tf.keras.metrics.TrueNegatives(name=\"tn\")  ## fpr = fp/(fp+tn) : fraudes non détectées\n",
        "\n",
        "model_file_name = 'fraud_detec_pred_best.hdf5'\n",
        "    \n",
        "cb_check = ModelCheckpoint(model_file_name,\n",
        "                           monitor = 'val_recall',\n",
        "                           mode = 'max',\n",
        "                           verbose = 1,\n",
        "                           save_best_only = True)\n",
        "    \n",
        "cb_early = EarlyStopping(monitor = 'val_recall',\n",
        "                         min_delta = 0.1,\n",
        "                         patience = 20)\n",
        "    \n",
        "# callbacks\n",
        "callbacks_list = [cb_check, cb_early]\n",
        "  "
      ],
      "metadata": {
        "id": "Rzh0UVztx3Id"
      }
    },
    {
      "cell_type": "code",
      "source": [
        "# dernier recall de l'apprentissage sur les train set\n",
        "last_recall = history.history[\"recall\"][-1]\n",
        "print(last_recall)       "
      ],
      "metadata": {
        "colab": {
          "base_uri": "https://localhost:8080/"
        },
        "id": "c-OiVjut90U3",
        "outputId": "8c7f4248-efde-4581-a7c4-9b6fc3ee9698"
      },
      "execution_count": 30,
      "outputs": [
        {
          "output_type": "stream",
          "name": "stdout",
          "text": [
            "0.6968838572502136\n"
          ]
        }
      ]
    },
    {
      "cell_type": "code",
      "source": [
        "model.evaluate(x_train, y_train)"
      ],
      "metadata": {
        "colab": {
          "base_uri": "https://localhost:8080/"
        },
        "id": "LfTI0_G191EI",
        "outputId": "c7a02d49-97e8-4221-833f-103a81c60465"
      },
      "execution_count": 31,
      "outputs": [
        {
          "output_type": "stream",
          "name": "stdout",
          "text": [
            "6231/6231 [==============================] - 12s 2ms/step - loss: 0.0014 - accuracy: 0.9994 - recall: 0.7224 - fp: 15.0000 - tn: 198996.0000\n"
          ]
        },
        {
          "output_type": "execute_result",
          "data": {
            "text/plain": [
              "[0.0014267046935856342, 0.9994332194328308, 0.7223796248435974, 15.0, 198996.0]"
            ]
          },
          "metadata": {},
          "execution_count": 31
        }
      ]
    },
    {
      "cell_type": "code",
      "source": [
        "model.evaluate(x_test, y_test)"
      ],
      "metadata": {
        "colab": {
          "base_uri": "https://localhost:8080/"
        },
        "id": "lCFHq-7g93Sw",
        "outputId": "2dbe80ce-275f-4123-d144-fa8d521df829"
      },
      "execution_count": 32,
      "outputs": [
        {
          "output_type": "stream",
          "name": "stdout",
          "text": [
            "2671/2671 [==============================] - 5s 2ms/step - loss: 0.0188 - accuracy: 0.9994 - recall: 0.7050 - fp: 11.0000 - tn: 85293.0000\n"
          ]
        },
        {
          "output_type": "execute_result",
          "data": {
            "text/plain": [
              "[0.018765326589345932, 0.9993914365768433, 0.7050359845161438, 11.0, 85293.0]"
            ]
          },
          "metadata": {},
          "execution_count": 32
        }
      ]
    },
    {
      "cell_type": "code",
      "source": [
        "def rapport(X, y, title) :\n",
        "    global model\n",
        "        \n",
        "    print(line)\n",
        "    print(title)\n",
        "        \n",
        "    loss, acc, rec, fp, tn = model.evaluate(X, y, verbose=0)\n",
        "    print(\"Accuracy = \", acc*100.0,\" %\")\n",
        "    print(\"Recall = \", rec*100.0,\" %\")\n",
        "    print(\"Fonction de perte = \", loss) \n",
        "    # calcul des fpr\n",
        "    ## fpr = fp/(fp+tn) : fraudes non détectées\n",
        "    print(\"FPR : taux de fraudes non détectées = \", (fp/(fp+tn))*100, \" %\")\n",
        "\n",
        "# IMPLEMENTATION\n",
        "    \n",
        "rapport(x_train, y_train, \"Train set\")\n",
        "rapport(x_test, y_test, \"Test set\")\n",
        "    \n",
        "accuracy_vect = history.history['accuracy']\n",
        "recalls_vect = history.history['recall']\n",
        "loss_vect = history.history['loss']\n",
        "fp_vect = history.history['fp']\n",
        "tn_vect = history.history['tn']\n",
        "\n",
        "print(line)\n",
        "index = np.argmax(recalls_vect)\n",
        "print(\"meilleure epoch = \", index) \n",
        "print(\"meilleur recall (train set) = \", recalls_vect[index])\n",
        "print(\"accuracy correspondant (train set) = \", accuracy_vect[index])\n",
        "print(\"loss correspondant = \", loss_vect[index])\n",
        "\n",
        "\n",
        "print(line)\n"
      ],
      "metadata": {
        "colab": {
          "base_uri": "https://localhost:8080/"
        },
        "id": "5uyoypMR96eK",
        "outputId": "14b205d0-f8b8-43e5-d8c1-eb8ec42c2adc"
      },
      "execution_count": 33,
      "outputs": [
        {
          "output_type": "stream",
          "name": "stdout",
          "text": [
            "==================================================\n",
            "Train set\n",
            "Accuracy =  99.94332194328308  %\n",
            "Recall =  72.23796248435974  %\n",
            "Fonction de perte =  0.0014267046935856342\n",
            "FPR : taux de fraudes non détectées =  0.007537271809095979  %\n",
            "==================================================\n",
            "Test set\n",
            "Accuracy =  99.93914365768433  %\n",
            "Recall =  70.50359845161438  %\n",
            "Fonction de perte =  0.018765326589345932\n",
            "FPR : taux de fraudes non détectées =  0.012895057676076151  %\n",
            "==================================================\n",
            "meilleure epoch =  40\n",
            "meilleur recall (train set) =  0.6997166872024536\n",
            "accuracy correspondant (train set) =  0.9993479251861572\n",
            "loss correspondant =  0.003034581197425723\n",
            "==================================================\n"
          ]
        }
      ]
    },
    {
      "cell_type": "code",
      "source": [
        "# AFFICHAGE DU RESULTAT\n",
        "    \n",
        "print(line)\n",
        "print(\"AFFICHAGE DU RESULTAT\")\n",
        "    \n",
        "    \n",
        "figure, axis = plt.subplots(2, 1)\n",
        "epochs_vect = np.arange(0, EPOCHS, 1)\n",
        "# recall\n",
        "axis[0].plot(epochs_vect, recalls_vect)\n",
        "axis[0].set_title(\"Evolution du recall suivant les 100 epochs\")\n",
        "    \n",
        "# loss\n",
        "axis[1].plot(epochs_vect, loss_vect, color = 'orange')\n",
        "axis[1].set_title(\"Evolution de la perte suivant les 100 epochs\")\n",
        "figure.tight_layout()\n",
        "plt.show()"
      ],
      "metadata": {
        "colab": {
          "base_uri": "https://localhost:8080/",
          "height": 332
        },
        "id": "p9CifBYY99tv",
        "outputId": "44ccce6d-b0a5-47c8-8b7b-6a2c3edafb3b"
      },
      "execution_count": 34,
      "outputs": [
        {
          "output_type": "stream",
          "name": "stdout",
          "text": [
            "==================================================\n",
            "AFFICHAGE DU RESULTAT\n"
          ]
        },
        {
          "output_type": "display_data",
          "data": {
            "text/plain": [
              "<Figure size 432x288 with 2 Axes>"
            ],
            "image/png": "[encoded data removed]"
          },
          "metadata": {
            "needs_background": "light"
          }
        }
      ]
    },
    {
      "cell_type": "markdown",
      "source": [
        "**Conclusion :**<br>"
      ],
      "metadata": {
        "id": "o2D8vZsOXwFW"
      }
    }
  ]
}